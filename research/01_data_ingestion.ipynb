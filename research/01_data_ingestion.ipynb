{
 "cells": [
  {
   "metadata": {
    "ExecuteTime": {
     "end_time": "2024-07-09T20:47:18.983388Z",
     "start_time": "2024-07-09T20:47:18.974981Z"
    }
   },
   "cell_type": "code",
   "source": [
    "import os\n",
    "\n",
    "%pwd"
   ],
   "id": "1d7acce1a88e6e86",
   "outputs": [
    {
     "data": {
      "text/plain": [
       "'/home/jafarian/PycharmProjects/WIP-SSVEPA/research'"
      ]
     },
     "execution_count": 1,
     "metadata": {},
     "output_type": "execute_result"
    }
   ],
   "execution_count": 1
  },
  {
   "metadata": {
    "ExecuteTime": {
     "end_time": "2024-07-09T20:47:20.551879Z",
     "start_time": "2024-07-09T20:47:20.541168Z"
    }
   },
   "cell_type": "code",
   "source": [
    "os.chdir(\"../\")\n",
    "%pwd"
   ],
   "id": "866985ca6f9f3364",
   "outputs": [
    {
     "data": {
      "text/plain": [
       "'/home/jafarian/PycharmProjects/WIP-SSVEPA'"
      ]
     },
     "execution_count": 2,
     "metadata": {},
     "output_type": "execute_result"
    }
   ],
   "execution_count": 2
  },
  {
   "metadata": {
    "ExecuteTime": {
     "end_time": "2024-07-09T20:47:22.544949Z",
     "start_time": "2024-07-09T20:47:22.539137Z"
    }
   },
   "cell_type": "code",
   "source": [
    "# Entity Data Ingestion Development\n",
    "\n",
    "from dataclasses import dataclass\n",
    "from pathlib import Path\n",
    "\n",
    "\n",
    "@dataclass(frozen=True)\n",
    "class DataIngestionConfig:\n",
    "    root_dir: Path\n",
    "    source_URL: str\n",
    "    local_data_file: Path\n",
    "    unzip_dir: Path\n",
    "\n"
   ],
   "id": "35778306d6fe8585",
   "outputs": [],
   "execution_count": 3
  },
  {
   "metadata": {
    "ExecuteTime": {
     "end_time": "2024-07-09T20:47:23.901625Z",
     "start_time": "2024-07-09T20:47:23.726230Z"
    }
   },
   "cell_type": "code",
   "source": [
    "from SSVEPA.constants import SCHEMA_FILE_PATH, CONFIG_FILE_PATH, PARAMS_FILE_PATH\n",
    "from SSVEPA.utils.common import read_yaml, create_directories"
   ],
   "id": "2179834ee9db0f5",
   "outputs": [],
   "execution_count": 4
  },
  {
   "metadata": {
    "ExecuteTime": {
     "end_time": "2024-07-09T20:47:24.360104Z",
     "start_time": "2024-07-09T20:47:24.355170Z"
    }
   },
   "cell_type": "code",
   "source": [
    "class ConfigurationManager:\n",
    "    def __init__(\n",
    "            self,\n",
    "            config_filepath=CONFIG_FILE_PATH,\n",
    "            params_filepath=PARAMS_FILE_PATH,\n",
    "            schema_filepath=SCHEMA_FILE_PATH):\n",
    "        self.config = read_yaml(config_filepath)\n",
    "        self.params = read_yaml(params_filepath)\n",
    "        self.schema = read_yaml(schema_filepath)\n",
    "\n",
    "        create_directories([self.config.artifacts_root])\n",
    "\n",
    "    def get_data_ingestion_config(self) -> DataIngestionConfig:\n",
    "        config = self.config.data_ingestion\n",
    "\n",
    "        create_directories([config.root_dir])\n",
    "\n",
    "        data_ingestion_config = DataIngestionConfig(\n",
    "            root_dir=config.root_dir,\n",
    "            source_URL=config.source_URL,\n",
    "            local_data_file=config.local_data_file,\n",
    "            unzip_dir=config.unzip_dir\n",
    "        )\n",
    "\n",
    "        return data_ingestion_config"
   ],
   "id": "8dc97bdf1e0eeb94",
   "outputs": [],
   "execution_count": 5
  },
  {
   "metadata": {
    "ExecuteTime": {
     "end_time": "2024-07-09T20:47:25.875191Z",
     "start_time": "2024-07-09T20:47:25.867164Z"
    }
   },
   "cell_type": "code",
   "source": [
    "import os\n",
    "import urllib.request as request\n",
    "import zipfile\n",
    "from SSVEPA import logger\n",
    "from SSVEPA.utils.common import get_size"
   ],
   "id": "c112bca0d65f130c",
   "outputs": [],
   "execution_count": 6
  },
  {
   "metadata": {
    "ExecuteTime": {
     "end_time": "2024-07-09T20:47:28.748133Z",
     "start_time": "2024-07-09T20:47:28.743015Z"
    }
   },
   "cell_type": "code",
   "source": [
    "class DataIngestion:\n",
    "    def __init__(self, config: DataIngestionConfig):\n",
    "        self.config = config\n",
    "\n",
    "    def download_file(self):\n",
    "        if not os.path.exists(self.config.local_data_file):\n",
    "            filename, headers = request.urlretrieve(\n",
    "                url = self.config.source_URL,\n",
    "                filename = self.config.local_data_file\n",
    "            )\n",
    "            logger.info(f\"{filename} download! with following info: \\n{headers}\")\n",
    "        else:\n",
    "            logger.info(f\"File already exists of size: {get_size(Path(self.config.local_data_file))}\")\n",
    "\n",
    "    def extract_zip_file(self):\n",
    "        \"\"\"\n",
    "        zip_file_path: str\n",
    "        Extracts the zip file into the data directory\n",
    "        Function returns None\n",
    "        \"\"\"\n",
    "        unzip_path = self.config.unzip_dir\n",
    "        os.makedirs(unzip_path, exist_ok=True)\n",
    "        with zipfile.ZipFile(self.config.local_data_file, 'r') as zip_ref:\n",
    "            zip_ref.extractall(unzip_path)\n",
    "  "
   ],
   "id": "eed5f2336a006445",
   "outputs": [],
   "execution_count": 7
  },
  {
   "metadata": {
    "ExecuteTime": {
     "end_time": "2024-07-09T20:47:32.496372Z",
     "start_time": "2024-07-09T20:47:31.731325Z"
    }
   },
   "cell_type": "code",
   "source": [
    "try:\n",
    "    config = ConfigurationManager()\n",
    "    data_ingestion_config = config.get_data_ingestion_config()\n",
    "    data_ingestion = DataIngestion(config=data_ingestion_config)\n",
    "    data_ingestion.download_file()\n",
    "    data_ingestion.extract_zip_file()\n",
    "except Exception as e:\n",
    "    raise e"
   ],
   "id": "34cdc53fa3f179de",
   "outputs": [
    {
     "name": "stdout",
     "output_type": "stream",
     "text": [
      "[2024-07-09 23:47:31,736: INFO: common: yaml file: config/config.yaml loaded successfully]\n",
      "[2024-07-09 23:47:31,737: INFO: common: yaml file: params.yaml loaded successfully]\n",
      "[2024-07-09 23:47:31,739: INFO: common: yaml file: schema.yaml loaded successfully]\n",
      "[2024-07-09 23:47:31,740: INFO: common: created directory at: artifacts]\n",
      "[2024-07-09 23:47:31,741: INFO: common: created directory at: artifacts/data_ingestion]\n",
      "[2024-07-09 23:47:32,483: INFO: 2771580160: artifacts/data_ingestion/data.zip download! with following info: \n",
      "Connection: close\n",
      "Content-Length: 23329\n",
      "Cache-Control: max-age=300\n",
      "Content-Security-Policy: default-src 'none'; style-src 'unsafe-inline'; sandbox\n",
      "Content-Type: application/zip\n",
      "ETag: \"c69888a4ae59bc5a893392785a938ccd4937981c06ba8a9d6a21aa52b4ab5b6e\"\n",
      "Strict-Transport-Security: max-age=31536000\n",
      "X-Content-Type-Options: nosniff\n",
      "X-Frame-Options: deny\n",
      "X-XSS-Protection: 1; mode=block\n",
      "X-GitHub-Request-Id: D7C9:34BD36:12287FC:12F8986:668DA1E4\n",
      "Accept-Ranges: bytes\n",
      "Date: Tue, 09 Jul 2024 20:47:32 GMT\n",
      "Via: 1.1 varnish\n",
      "X-Served-By: cache-hel1410026-HEL\n",
      "X-Cache: MISS\n",
      "X-Cache-Hits: 0\n",
      "X-Timer: S1720558052.270034,VS0,VE203\n",
      "Vary: Authorization,Accept-Encoding,Origin\n",
      "Access-Control-Allow-Origin: *\n",
      "Cross-Origin-Resource-Policy: cross-origin\n",
      "X-Fastly-Request-ID: 3d4d3398d33dbdaa62163ea3eace7a6533f53685\n",
      "Expires: Tue, 09 Jul 2024 20:52:32 GMT\n",
      "Source-Age: 0\n",
      "\n",
      "]\n"
     ]
    }
   ],
   "execution_count": 8
  },
  {
   "metadata": {
    "ExecuteTime": {
     "end_time": "2024-07-09T20:48:31.525788Z",
     "start_time": "2024-07-09T20:48:31.508004Z"
    }
   },
   "cell_type": "code",
   "source": [
    "import os\n",
    "import urllib.request as request\n",
    "import zipfile\n",
    "from SSVEPA import logger\n",
    "from pathlib import Path\n",
    "from SSVEPA.utils.common import get_size\n",
    "\n",
    "class DataIngestion:\n",
    "    def __init__(self, config):\n",
    "        self.config = config\n",
    "\n",
    "    def download_file(self):\n",
    "        if not os.path.exists(self.config.local_data_file):\n",
    "            try:\n",
    "                filename, headers = request.urlretrieve(\n",
    "                    url=self.config.source_URL,\n",
    "                    filename=self.config.local_data_file\n",
    "                )\n",
    "                logger.info(f\"{filename} downloaded! with following info: \\n{headers}\")\n",
    "                # Verify the file type and size\n",
    "                if zipfile.is_zipfile(self.config.local_data_file):\n",
    "                    logger.info(\"Downloaded file is a valid zip file.\")\n",
    "                else:\n",
    "                    logger.warning(\"Downloaded file is not a valid zip file.\")\n",
    "            except Exception as e:\n",
    "                logger.error(f\"Failed to download the file due to: {e}\")\n",
    "                raise RuntimeError(f\"Failed to download the file due to: {e}\")\n",
    "        else:\n",
    "            #file_size = os.path.getsize(self.config.local_data_file)\n",
    "            file_size = get_size(Path(self.config.local_data_file))\n",
    "            logger.info(f\"File already exists of size: {file_size}\")\n",
    "\n",
    "\n",
    "    def extract_zip_file(self):\n",
    "        unzip_path = self.config.unzip_dir\n",
    "        os.makedirs(unzip_path, exist_ok=True)\n",
    "        with zipfile.ZipFile(self.config.local_data_file, 'r') as zip_ref:\n",
    "            zip_ref.extractall(unzip_path)\n",
    "            logger.info(f\"Files extracted to {unzip_path}\")\n",
    "\n",
    "try:\n",
    "    config = ConfigurationManager()\n",
    "    data_ingestion_config = config.get_data_ingestion_config()\n",
    "    data_ingestion = DataIngestion(config=data_ingestion_config)\n",
    "    data_ingestion.download_file()\n",
    "    data_ingestion.extract_zip_file()\n",
    "except Exception as e:\n",
    "    logger.error(\"An error occurred during data ingestion.\", exc_info=True)\n",
    "    raise e\n"
   ],
   "id": "25eb3a5272f0eb10",
   "outputs": [
    {
     "name": "stdout",
     "output_type": "stream",
     "text": [
      "[2024-07-09 23:48:31,518: INFO: common: yaml file: config/config.yaml loaded successfully]\n",
      "[2024-07-09 23:48:31,519: INFO: common: yaml file: params.yaml loaded successfully]\n",
      "[2024-07-09 23:48:31,520: INFO: common: yaml file: schema.yaml loaded successfully]\n",
      "[2024-07-09 23:48:31,521: INFO: common: created directory at: artifacts]\n",
      "[2024-07-09 23:48:31,521: INFO: common: created directory at: artifacts/data_ingestion]\n",
      "[2024-07-09 23:48:31,522: INFO: 1779564001: File already exists of size: ~ 23 KB]\n",
      "[2024-07-09 23:48:31,524: INFO: 1779564001: Files extracted to artifacts/data_ingestion]\n"
     ]
    }
   ],
   "execution_count": 11
  },
  {
   "metadata": {},
   "cell_type": "code",
   "outputs": [],
   "execution_count": null,
   "source": "",
   "id": "61c4ee17ebcaf8ec"
  }
 ],
 "metadata": {
  "kernelspec": {
   "display_name": "Python 3",
   "language": "python",
   "name": "python3"
  },
  "language_info": {
   "codemirror_mode": {
    "name": "ipython",
    "version": 2
   },
   "file_extension": ".py",
   "mimetype": "text/x-python",
   "name": "python",
   "nbconvert_exporter": "python",
   "pygments_lexer": "ipython2",
   "version": "2.7.6"
  }
 },
 "nbformat": 4,
 "nbformat_minor": 5
}
