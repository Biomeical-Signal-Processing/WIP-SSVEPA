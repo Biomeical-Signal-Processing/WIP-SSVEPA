{
 "cells": [
  {
   "cell_type": "code",
   "id": "initial_id",
   "metadata": {
    "collapsed": true,
    "ExecuteTime": {
     "end_time": "2024-10-04T14:15:32.299532Z",
     "start_time": "2024-10-04T14:15:32.287673Z"
    }
   },
   "source": "import os",
   "outputs": [],
   "execution_count": 2
  },
  {
   "metadata": {
    "ExecuteTime": {
     "end_time": "2024-10-04T14:15:33.105687Z",
     "start_time": "2024-10-04T14:15:33.082704Z"
    }
   },
   "cell_type": "code",
   "source": "%pwd",
   "id": "f208ecc4951253ae",
   "outputs": [
    {
     "data": {
      "text/plain": [
       "'C:\\\\Users\\\\hesam\\\\PycharmProjects\\\\ssvepa\\\\WIP-SSVEPA\\\\research'"
      ]
     },
     "execution_count": 3,
     "metadata": {},
     "output_type": "execute_result"
    }
   ],
   "execution_count": 3
  },
  {
   "metadata": {
    "ExecuteTime": {
     "end_time": "2024-10-04T14:15:35.741477Z",
     "start_time": "2024-10-04T14:15:35.732476Z"
    }
   },
   "cell_type": "code",
   "source": "os.chdir(\"../\")",
   "id": "63f5ac931e8c493a",
   "outputs": [],
   "execution_count": 4
  },
  {
   "metadata": {
    "ExecuteTime": {
     "end_time": "2024-10-04T14:15:37.361846Z",
     "start_time": "2024-10-04T14:15:37.353647Z"
    }
   },
   "cell_type": "code",
   "source": "%pwd",
   "id": "9bd93de09f89fbad",
   "outputs": [
    {
     "data": {
      "text/plain": [
       "'C:\\\\Users\\\\hesam\\\\PycharmProjects\\\\ssvepa\\\\WIP-SSVEPA'"
      ]
     },
     "execution_count": 5,
     "metadata": {},
     "output_type": "execute_result"
    }
   ],
   "execution_count": 5
  },
  {
   "metadata": {
    "ExecuteTime": {
     "end_time": "2024-10-04T15:50:44.939948Z",
     "start_time": "2024-10-04T15:50:44.915890Z"
    }
   },
   "cell_type": "code",
   "source": [
    "# Define the entity\n",
    "from dataclasses import dataclass\n",
    "from pathlib import Path\n",
    "\n",
    "\n",
    "@dataclass(frozen=True)\n",
    "class DataTransformationConfig:\n",
    "    root_dir: Path\n",
    "    data_path: Path"
   ],
   "id": "a0eb5d191767ce7a",
   "outputs": [],
   "execution_count": 6
  },
  {
   "metadata": {
    "ExecuteTime": {
     "end_time": "2024-10-04T15:50:45.886509Z",
     "start_time": "2024-10-04T15:50:45.527933Z"
    }
   },
   "cell_type": "code",
   "source": [
    "from SSVEPA.constants import (CONFIG_FILE_PATH, PARAMS_FILE_PATH,\n",
    "                              SCHEMA_FILE_PATH)\n",
    "from SSVEPA.utils.common import read_yaml, create_directories\n",
    "\n",
    "class ConfigurationManager:\n",
    "    def __init__(\n",
    "        self,\n",
    "        config_filepath = CONFIG_FILE_PATH,\n",
    "        params_filepath = PARAMS_FILE_PATH,\n",
    "        schema_filepath = SCHEMA_FILE_PATH):\n",
    "\n",
    "        self.config = read_yaml(config_filepath)\n",
    "        self.params = read_yaml(params_filepath)\n",
    "        self.schema = read_yaml(schema_filepath)\n",
    "\n",
    "        create_directories([self.config.artifacts_root])\n",
    "\n",
    "    def get_data_transformation_config(self) -> DataTransformationConfig:\n",
    "        config = self.config.data_transformation\n",
    "\n",
    "        create_directories([config.root_dir])\n",
    "\n",
    "        data_transformation_config = DataTransformationConfig(\n",
    "            root_dir=config.root_dir,\n",
    "            data_path=config.data_path,\n",
    "        )\n",
    "\n",
    "        return data_transformation_config"
   ],
   "id": "930fb020ecf56f53",
   "outputs": [],
   "execution_count": 7
  },
  {
   "metadata": {
    "ExecuteTime": {
     "end_time": "2024-10-04T16:27:55.721370Z",
     "start_time": "2024-10-04T16:27:55.712875Z"
    }
   },
   "cell_type": "code",
   "source": [
    "# Prepare Components\n",
    "import os\n",
    "from SSVEPA import logger\n",
    "from sklearn.model_selection import train_test_split\n",
    "import pandas as pd"
   ],
   "id": "30b7c9c40e837314",
   "outputs": [],
   "execution_count": 14
  },
  {
   "metadata": {
    "ExecuteTime": {
     "end_time": "2024-10-04T16:27:56.307224Z",
     "start_time": "2024-10-04T16:27:56.298732Z"
    }
   },
   "cell_type": "code",
   "source": [
    "class DataTransformation:\n",
    "    def __init__(self, config: DataTransformationConfig):\n",
    "        self.config = config\n",
    "\n",
    "    # Any method for transformation of the data can be added here. Scaler, PCA , etc.\n",
    "    # EDA can be done here in any section of the ML cycle and then pass the data to the ML Model\n",
    "\n",
    "    # The first here is to use only the split test since the data is already clean.\n",
    "\n",
    "    def train_test_spliting(self):\n",
    "        data = pd.read_csv(self.config.data_path)\n",
    "\n",
    "        # Split the data into training and test sets. (0.75, 0.25) split ratios.\n",
    "        train, test = train_test_split(data)\n",
    "\n",
    "        train.to_csv(os.path.join(self.config.root_dir, \"train.csv\"),index = False)\n",
    "        test.to_csv(os.path.join(self.config.root_dir, \"test.csv\"),index = False)\n",
    "\n",
    "        logger.info(\"Data split into training and test sets\")\n",
    "        logger.info(f\"Train data dimension is = {train.shape}\")\n",
    "        logger.info(f\"Test data dimension is = {test.shape} \")\n",
    "\n",
    "        print(train.shape)\n",
    "        print(test.shape)"
   ],
   "id": "2dec8038b4165944",
   "outputs": [],
   "execution_count": 15
  },
  {
   "metadata": {
    "ExecuteTime": {
     "end_time": "2024-10-04T16:27:56.970359Z",
     "start_time": "2024-10-04T16:27:56.929471Z"
    }
   },
   "cell_type": "code",
   "source": [
    "# define and test a simple pipeline\n",
    "try:\n",
    "    config = ConfigurationManager()\n",
    "    data_transformation_config = config.get_data_transformation_config()\n",
    "    data_transformation = DataTransformation(config=data_transformation_config)\n",
    "    data_transformation.train_test_spliting()\n",
    "except Exception as e:\n",
    "    raise e"
   ],
   "id": "ce4043a0845b7b74",
   "outputs": [
    {
     "name": "stdout",
     "output_type": "stream",
     "text": [
      "[2024-10-04 19:27:56,934: INFO: common: yaml file: config\\config.yaml loaded successfully]\n",
      "[2024-10-04 19:27:56,936: INFO: common: yaml file: params.yaml loaded successfully]\n",
      "[2024-10-04 19:27:56,939: INFO: common: yaml file: schema.yaml loaded successfully]\n",
      "[2024-10-04 19:27:56,941: INFO: common: created directory at: artifacts]\n",
      "[2024-10-04 19:27:56,942: INFO: common: created directory at: artifacts/data_transformation]\n",
      "[2024-10-04 19:27:56,961: INFO: 1241212029: Data split into training and test sets]\n",
      "[2024-10-04 19:27:56,962: INFO: 1241212029: Train data dimension is = (1199, 12)]\n",
      "[2024-10-04 19:27:56,962: INFO: 1241212029: Test data dimension is = (400, 12) ]\n",
      "(1199, 12)\n",
      "(400, 12)\n"
     ]
    }
   ],
   "execution_count": 16
  },
  {
   "metadata": {},
   "cell_type": "code",
   "outputs": [],
   "execution_count": null,
   "source": "",
   "id": "41cae27d425cda89"
  }
 ],
 "metadata": {
  "kernelspec": {
   "display_name": "Python 3",
   "language": "python",
   "name": "python3"
  },
  "language_info": {
   "codemirror_mode": {
    "name": "ipython",
    "version": 2
   },
   "file_extension": ".py",
   "mimetype": "text/x-python",
   "name": "python",
   "nbconvert_exporter": "python",
   "pygments_lexer": "ipython2",
   "version": "2.7.6"
  }
 },
 "nbformat": 4,
 "nbformat_minor": 5
}
