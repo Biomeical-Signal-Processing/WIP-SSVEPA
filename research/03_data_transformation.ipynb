{
 "cells": [
  {
   "cell_type": "code",
   "id": "initial_id",
   "metadata": {
    "collapsed": true,
    "ExecuteTime": {
     "end_time": "2024-08-29T16:12:32.106728Z",
     "start_time": "2024-08-29T16:12:32.085782Z"
    }
   },
   "source": "import os",
   "outputs": [],
   "execution_count": 1
  },
  {
   "metadata": {
    "ExecuteTime": {
     "end_time": "2024-08-29T16:12:41.877336Z",
     "start_time": "2024-08-29T16:12:41.864370Z"
    }
   },
   "cell_type": "code",
   "source": "%pwd",
   "id": "f208ecc4951253ae",
   "outputs": [
    {
     "data": {
      "text/plain": [
       "'C:\\\\Users\\\\hesam\\\\PycharmProjects\\\\ssvepa\\\\WIP-SSVEPA\\\\research'"
      ]
     },
     "execution_count": 2,
     "metadata": {},
     "output_type": "execute_result"
    }
   ],
   "execution_count": 2
  },
  {
   "metadata": {
    "ExecuteTime": {
     "end_time": "2024-08-29T16:13:06.618633Z",
     "start_time": "2024-08-29T16:13:06.611666Z"
    }
   },
   "cell_type": "code",
   "source": "os.chdir(\"../\")",
   "id": "63f5ac931e8c493a",
   "outputs": [],
   "execution_count": 4
  },
  {
   "metadata": {
    "ExecuteTime": {
     "end_time": "2024-08-29T16:13:15.261494Z",
     "start_time": "2024-08-29T16:13:15.247530Z"
    }
   },
   "cell_type": "code",
   "source": "%pwd",
   "id": "9bd93de09f89fbad",
   "outputs": [
    {
     "data": {
      "text/plain": [
       "'C:\\\\Users\\\\hesam\\\\PycharmProjects\\\\ssvepa'"
      ]
     },
     "execution_count": 5,
     "metadata": {},
     "output_type": "execute_result"
    }
   ],
   "execution_count": 5
  },
  {
   "metadata": {},
   "cell_type": "code",
   "outputs": [],
   "execution_count": null,
   "source": "",
   "id": "a0eb5d191767ce7a"
  }
 ],
 "metadata": {
  "kernelspec": {
   "display_name": "Python 3",
   "language": "python",
   "name": "python3"
  },
  "language_info": {
   "codemirror_mode": {
    "name": "ipython",
    "version": 2
   },
   "file_extension": ".py",
   "mimetype": "text/x-python",
   "name": "python",
   "nbconvert_exporter": "python",
   "pygments_lexer": "ipython2",
   "version": "2.7.6"
  }
 },
 "nbformat": 4,
 "nbformat_minor": 5
}
