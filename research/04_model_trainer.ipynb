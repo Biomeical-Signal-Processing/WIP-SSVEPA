{
 "cells": [
  {
   "cell_type": "code",
   "id": "initial_id",
   "metadata": {
    "collapsed": true,
    "ExecuteTime": {
     "end_time": "2024-10-06T11:46:43.384266Z",
     "start_time": "2024-10-06T11:46:43.363975Z"
    }
   },
   "source": "import os",
   "outputs": [],
   "execution_count": 1
  },
  {
   "metadata": {
    "ExecuteTime": {
     "end_time": "2024-10-06T11:46:43.400235Z",
     "start_time": "2024-10-06T11:46:43.386260Z"
    }
   },
   "cell_type": "code",
   "source": "%pwd",
   "id": "f4df94afad13c48f",
   "outputs": [
    {
     "data": {
      "text/plain": [
       "'C:\\\\Users\\\\hesam\\\\PycharmProjects\\\\ssvepa\\\\WIP-SSVEPA\\\\research'"
      ]
     },
     "execution_count": 2,
     "metadata": {},
     "output_type": "execute_result"
    }
   ],
   "execution_count": 2
  },
  {
   "metadata": {
    "ExecuteTime": {
     "end_time": "2024-10-06T11:46:44.811520Z",
     "start_time": "2024-10-06T11:46:44.806532Z"
    }
   },
   "cell_type": "code",
   "source": "os.chdir(\"../\")",
   "id": "3b69eea99d7c4ca7",
   "outputs": [],
   "execution_count": 3
  },
  {
   "metadata": {
    "ExecuteTime": {
     "end_time": "2024-10-06T11:46:47.301218Z",
     "start_time": "2024-10-06T11:46:47.288254Z"
    }
   },
   "cell_type": "code",
   "source": "%pwd",
   "id": "4d6e116587f1ee48",
   "outputs": [
    {
     "data": {
      "text/plain": [
       "'C:\\\\Users\\\\hesam\\\\PycharmProjects\\\\ssvepa\\\\WIP-SSVEPA'"
      ]
     },
     "execution_count": 4,
     "metadata": {},
     "output_type": "execute_result"
    }
   ],
   "execution_count": 4
  },
  {
   "metadata": {
    "ExecuteTime": {
     "end_time": "2024-10-06T11:46:48.694805Z",
     "start_time": "2024-10-06T11:46:48.677875Z"
    }
   },
   "cell_type": "code",
   "source": [
    "from dataclasses import dataclass\n",
    "from pathlib import Path\n",
    "\n",
    "\n",
    "@dataclass(frozen=True)\n",
    "class ModelTrainerConfig:\n",
    "    root_dir: Path\n",
    "    train_data_path: Path\n",
    "    test_data_path: Path\n",
    "    model_name: str\n",
    "    alpha: float\n",
    "    l1_ratio: float\n",
    "    target_column: str"
   ],
   "id": "67b59c4922ef8762",
   "outputs": [],
   "execution_count": 5
  },
  {
   "metadata": {
    "ExecuteTime": {
     "end_time": "2024-10-06T11:46:49.983122Z",
     "start_time": "2024-10-06T11:46:49.762707Z"
    }
   },
   "cell_type": "code",
   "source": [
    "from SSVEPA.constants import (CONFIG_FILE_PATH, PARAMS_FILE_PATH,\n",
    "                              SCHEMA_FILE_PATH)\n",
    "from SSVEPA.utils.common import read_yaml, create_directories\n",
    "\n",
    "class ConfigurationManager:\n",
    "    def __init__(\n",
    "        self,\n",
    "        config_filepath = CONFIG_FILE_PATH,\n",
    "        params_filepath = PARAMS_FILE_PATH,\n",
    "        schema_filepath = SCHEMA_FILE_PATH):\n",
    "\n",
    "        self.config = read_yaml(config_filepath)\n",
    "        self.params = read_yaml(params_filepath)\n",
    "        self.schema = read_yaml(schema_filepath)\n",
    "\n",
    "        create_directories([self.config.artifacts_root])\n",
    "\n",
    "\n",
    "    def get_model_trainer_config(self) -> ModelTrainerConfig:\n",
    "        config = self.config.model_trainer\n",
    "        params = self.params.ElasticNet\n",
    "        schema =  self.schema.TARGET_COLUMN\n",
    "\n",
    "        create_directories([config.root_dir])\n",
    "\n",
    "        model_trainer_config = ModelTrainerConfig(\n",
    "            root_dir=config.root_dir,\n",
    "            train_data_path = config.train_data_path,\n",
    "            test_data_path = config.test_data_path,\n",
    "            model_name = config.model_name,\n",
    "            alpha = params.alpha,\n",
    "            l1_ratio = params.l1_ratio,\n",
    "            target_column = schema.name\n",
    "            \n",
    "        )\n",
    "\n",
    "        return model_trainer_config"
   ],
   "id": "eac9c90aa55a90e8",
   "outputs": [],
   "execution_count": 6
  },
  {
   "metadata": {
    "ExecuteTime": {
     "end_time": "2024-10-06T11:46:52.135029Z",
     "start_time": "2024-10-06T11:46:50.891537Z"
    }
   },
   "cell_type": "code",
   "source": [
    "import pandas as pd\n",
    "import os\n",
    "from SSVEPA import logger\n",
    "from sklearn.linear_model import ElasticNet\n",
    "import joblib"
   ],
   "id": "c60bd5e2de6b873d",
   "outputs": [],
   "execution_count": 7
  },
  {
   "metadata": {
    "ExecuteTime": {
     "end_time": "2024-10-06T11:46:53.375479Z",
     "start_time": "2024-10-06T11:46:53.361817Z"
    }
   },
   "cell_type": "code",
   "source": [
    "class ModelTrainer:\n",
    "    def __init__(self, config: ModelTrainerConfig):\n",
    "        self.config = config\n",
    "\n",
    "    \n",
    "    def train(self):\n",
    "        train_data = pd.read_csv(self.config.train_data_path)\n",
    "        test_data = pd.read_csv(self.config.test_data_path)\n",
    "\n",
    "\n",
    "        train_x = train_data.drop([self.config.target_column], axis=1)\n",
    "        test_x = test_data.drop([self.config.target_column], axis=1)\n",
    "        train_y = train_data[[self.config.target_column]]\n",
    "        test_y = test_data[[self.config.target_column]]\n",
    "\n",
    "\n",
    "        lr = ElasticNet(alpha=self.config.alpha, l1_ratio=self.config.l1_ratio, random_state=42)\n",
    "        lr.fit(train_x, train_y)\n",
    "\n",
    "        joblib.dump(lr, os.path.join(self.config.root_dir, self.config.model_name))\n",
    "\n"
   ],
   "id": "830498d89e91fa9f",
   "outputs": [],
   "execution_count": 8
  },
  {
   "metadata": {
    "ExecuteTime": {
     "end_time": "2024-10-06T11:46:58.262969Z",
     "start_time": "2024-10-06T11:46:58.172498Z"
    }
   },
   "cell_type": "code",
   "source": [
    "try:\n",
    "    config = ConfigurationManager()\n",
    "    model_trainer_config = config.get_model_trainer_config()\n",
    "    model_trainer_config = ModelTrainer(config=model_trainer_config)\n",
    "    model_trainer_config.train()\n",
    "except Exception as e:\n",
    "    raise e"
   ],
   "id": "1aaf9b5365bdb04d",
   "outputs": [
    {
     "name": "stdout",
     "output_type": "stream",
     "text": [
      "[2024-10-06 14:46:58,184: INFO: common: yaml file: config\\config.yaml loaded successfully]\n",
      "[2024-10-06 14:46:58,186: INFO: common: yaml file: params.yaml loaded successfully]\n",
      "[2024-10-06 14:46:58,194: INFO: common: yaml file: schema.yaml loaded successfully]\n",
      "[2024-10-06 14:46:58,196: INFO: common: created directory at: artifacts]\n",
      "[2024-10-06 14:46:58,197: INFO: common: created directory at: artifacts/model_trainer]\n"
     ]
    }
   ],
   "execution_count": 9
  },
  {
   "metadata": {},
   "cell_type": "code",
   "outputs": [],
   "execution_count": null,
   "source": "",
   "id": "31c6e4e8a41b808b"
  }
 ],
 "metadata": {
  "kernelspec": {
   "display_name": "Python 3",
   "language": "python",
   "name": "python3"
  },
  "language_info": {
   "codemirror_mode": {
    "name": "ipython",
    "version": 2
   },
   "file_extension": ".py",
   "mimetype": "text/x-python",
   "name": "python",
   "nbconvert_exporter": "python",
   "pygments_lexer": "ipython2",
   "version": "2.7.6"
  }
 },
 "nbformat": 4,
 "nbformat_minor": 5
}
