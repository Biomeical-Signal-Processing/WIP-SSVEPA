{
 "cells": [
  {
   "cell_type": "code",
   "id": "initial_id",
   "metadata": {
    "collapsed": true,
    "is_executing": true,
    "ExecuteTime": {
     "end_time": "2024-07-04T15:26:35.605439Z",
     "start_time": "2024-07-04T15:26:35.589472Z"
    }
   },
   "source": [
    "d = {\"Key1\": \"Value1\", \"Key2\": \"Value2\"}\n",
    "d[\"Key1\"]"
   ],
   "outputs": [
    {
     "data": {
      "text/plain": [
       "'Value1'"
      ]
     },
     "execution_count": 2,
     "metadata": {},
     "output_type": "execute_result"
    }
   ],
   "execution_count": 2
  },
  {
   "cell_type": "code",
   "source": [
    "from box import ConfigBox\n",
    "\n",
    "d2 = ConfigBox(d)\n",
    "d2.Key1"
   ],
   "metadata": {
    "collapsed": false,
    "ExecuteTime": {
     "end_time": "2024-07-04T15:28:15.179978Z",
     "start_time": "2024-07-04T15:28:15.172131Z"
    }
   },
   "id": "fefde7419630dd96",
   "outputs": [
    {
     "data": {
      "text/plain": [
       "'Value1'"
      ]
     },
     "execution_count": 4,
     "metadata": {},
     "output_type": "execute_result"
    }
   ],
   "execution_count": 4
  },
  {
   "metadata": {},
   "cell_type": "code",
   "outputs": [],
   "execution_count": null,
   "source": "",
   "id": "26c35dce7ea72513"
  }
 ],
 "metadata": {
  "kernelspec": {
   "display_name": "Python 3",
   "language": "python",
   "name": "python3"
  },
  "language_info": {
   "codemirror_mode": {
    "name": "ipython",
    "version": 2
   },
   "file_extension": ".py",
   "mimetype": "text/x-python",
   "name": "python",
   "nbconvert_exporter": "python",
   "pygments_lexer": "ipython2",
   "version": "2.7.6"
  }
 },
 "nbformat": 4,
 "nbformat_minor": 5
}
